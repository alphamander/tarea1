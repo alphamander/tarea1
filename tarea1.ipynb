{
 "cells": [
  {
   "cell_type": "markdown",
   "metadata": {},
   "source": [
    "# GIT overview"
   ]
  },
  {
   "cell_type": "markdown",
   "metadata": {},
   "source": [
    "Durante el desarrollo de un proyecto de software por un equipo de programadores. Cada miembro del equipo podría estar trabajando en distintas versiones del software y en distintas funcionalidades de este. Para facilitar este proceso se utilizan controladores de versiones. El controlador de versiones más popular en este momento es Git. A continuación, se explicará con mas detalle que es Git, una vista superficial de cómo funciona y se presentaran ejemplos de su uso."
   ]
  },
  {
   "cell_type": "markdown",
   "metadata": {},
   "source": [
    "De manera superficial, como funciona Git es guardando los distintos estados del directorio base, sus archivos y sus respectivos subdirectorios de un proyecto. Todo inicia cuando se utiliza git init, esto le indica a Git cual es el directorio del cual necesitamos guardar un historial de estados."
   ]
  },
  {
   "cell_type": "code",
   "execution_count": 7,
   "metadata": {},
   "outputs": [
    {
     "name": "stderr",
     "output_type": "stream",
     "text": [
      "A subdirectory or file test already exists."
     ]
    },
    {
     "name": "stdout",
     "output_type": "stream",
     "text": [
      "Initialized empty Git repository in D:/Documents/Maestria/Trimestre 1/Ciencia de Datos en Python/tarea1/test/.git/\n"
     ]
    },
    {
     "name": "stderr",
     "output_type": "stream",
     "text": [
      "\n"
     ]
    }
   ],
   "source": [
    "!mkdir test\n",
    "!git -C test/ init"
   ]
  },
  {
   "cell_type": "markdown",
   "metadata": {},
   "source": [
    "Para guardar cada estado, Git nos permite elegir que cambios queremos registrar en cada estado, para ello utilizamos git add 'archivo'. "
   ]
  },
  {
   "cell_type": "code",
   "execution_count": 14,
   "metadata": {},
   "outputs": [
    {
     "data": {
      "text/plain": [
       "[]"
      ]
     },
     "execution_count": 14,
     "metadata": {},
     "output_type": "execute_result"
    }
   ],
   "source": [
    "!echo prueba  > test/prueba.txt\n",
    "!git -C test/ add prueba.txt"
   ]
  },
  {
   "cell_type": "markdown",
   "metadata": {},
   "source": [
    "Una vez se han agregado todos los archivos necesarios utilizando el comando anterior, es posible hacer un commit. Un commit le indica a Git que queremos guardar el estado actual de los archivos elegidos. Ademas de guardar el estado, también se guarda otra información útil como el autor del commit, la fecha y un mensaje del autor que puede ser utilizado para indicar que cambios se realizaron en este nuevo estado. Para hacer commit se puede utilizar git commit. "
   ]
  },
  {
   "cell_type": "code",
   "execution_count": 3,
   "metadata": {},
   "outputs": [
    {
     "name": "stdout",
     "output_type": "stream",
     "text": [
      "[master (root-commit) 5c2d802] Primer commit\n",
      " 1 file changed, 1 insertion(+)\n",
      " create mode 100644 prueba.txt\n"
     ]
    }
   ],
   "source": [
    "!git -C test/ commit -m \"Primer commit\""
   ]
  },
  {
   "cell_type": "markdown",
   "metadata": {},
   "source": [
    "Luego de un commit si hacemos cambios es posible ver que archivos cambiaron desde el ultimo commit utilizando git status."
   ]
  },
  {
   "cell_type": "code",
   "execution_count": 5,
   "metadata": {},
   "outputs": [
    {
     "name": "stdout",
     "output_type": "stream",
     "text": [
      "On branch master\n",
      "Changes not staged for commit:\n",
      "  (use \"git add <file>...\" to update what will be committed)\n",
      "  (use \"git restore <file>...\" to discard changes in working directory)\n",
      "\tmodified:   prueba.txt\n",
      "\n",
      "no changes added to commit (use \"git add\" and/or \"git commit -a\")\n"
     ]
    }
   ],
   "source": [
    "!echo prueba2  > test/prueba.txt\n",
    "!git -C test/ status"
   ]
  },
  {
   "cell_type": "markdown",
   "metadata": {},
   "source": [
    "Cada commit tiene un hash que sirve como identificador. Este identificador puede ser utilizado para realizar una variedad de operaciones. Por ejemplo, se pueden comparar dos commits es utilizando el comando git diff <identificador1> <identificador2>. Esto nos resaltara las diferencias entre los dos commits."
   ]
  },
  {
   "cell_type": "code",
   "execution_count": 7,
   "metadata": {},
   "outputs": [
    {
     "name": "stdout",
     "output_type": "stream",
     "text": [
      "diff --git a/prueba.txt b/prueba.txt\n",
      "index 7096158..bff1389 100644\n",
      "--- a/prueba.txt\n",
      "+++ b/prueba.txt\n",
      "@@ -1 +1 @@\n",
      "-prueba  \n",
      "+prueba2  \n"
     ]
    }
   ],
   "source": [
    "!git -C test/ diff"
   ]
  },
  {
   "cell_type": "markdown",
   "metadata": {},
   "source": [
    "Usualmente la versión en uso del proyecto se mantiene en la branch principal conocida como master. Una branch permite guardar los estados para otras versiones del código además de la de master. Por ejemplo, si dos programadores estuvieran trabajando en funcionalidades distintas cada uno debería crear un branch. Para crear un branch se puede utilizar git checkout -b <nombre del branch>."
   ]
  },
  {
   "cell_type": "code",
   "execution_count": 10,
   "metadata": {},
   "outputs": [
    {
     "name": "stderr",
     "output_type": "stream",
     "text": [
      "Switched to a new branch 'branchPrueba1'\n"
     ]
    },
    {
     "name": "stdout",
     "output_type": "stream",
     "text": [
      "[branchPrueba1 3d17a8e] Branch commit\n",
      " 1 file changed, 1 insertion(+), 1 deletion(-)\n"
     ]
    }
   ],
   "source": [
    "!git -C test/ checkout -b branchPrueba1\n",
    "!git -C test/ add prueba.txt\n",
    "!git -C test/ commit -m \"Branch commit\""
   ]
  },
  {
   "cell_type": "markdown",
   "metadata": {},
   "source": [
    "Cuando la funcionalidad este terminada un desarrollador también puede integrar a sus cambios a la versión principal de proyecto utilizando el comando git merge <branch> desde la branch de master."
   ]
  },
  {
   "cell_type": "code",
   "execution_count": 12,
   "metadata": {},
   "outputs": [
    {
     "name": "stderr",
     "output_type": "stream",
     "text": [
      "Switched to branch 'master'\n"
     ]
    },
    {
     "name": "stdout",
     "output_type": "stream",
     "text": [
      "Updating 5c2d802..3d17a8e\n",
      "Fast-forward\n",
      " prueba.txt | 2 +-\n",
      " 1 file changed, 1 insertion(+), 1 deletion(-)\n"
     ]
    }
   ],
   "source": [
    "!git -C test/ checkout master\n",
    "!git -C test/ merge branchPrueba1"
   ]
  },
  {
   "cell_type": "markdown",
   "metadata": {},
   "source": [
    "Para ver todos los movimientos que se realizan entres branches es posible utilizar el comando git log"
   ]
  },
  {
   "cell_type": "code",
   "execution_count": 13,
   "metadata": {},
   "outputs": [
    {
     "name": "stdout",
     "output_type": "stream",
     "text": [
      "commit 3d17a8ee2ae405593134c9dfcb2ae8785e252273\n",
      "Author: Diego Perez <alphamander@gmail.com>\n",
      "Date:   Wed Apr 1 18:23:15 2020 -0600\n",
      "\n",
      "    Branch commit\n",
      "\n",
      "commit 5c2d80204f4e7c4dda142e48a9da6c02b8ba6537\n",
      "Author: Diego Perez <alphamander@gmail.com>\n",
      "Date:   Wed Apr 1 18:16:43 2020 -0600\n",
      "\n",
      "    Primer commit\n"
     ]
    }
   ],
   "source": [
    "!git -C test/ log"
   ]
  },
  {
   "cell_type": "markdown",
   "metadata": {},
   "source": [
    "En conclusion, "
   ]
  }
 ],
 "metadata": {
  "kernelspec": {
   "display_name": "Python 3",
   "language": "python",
   "name": "python3"
  },
  "language_info": {
   "codemirror_mode": {
    "name": "ipython",
    "version": 3
   },
   "file_extension": ".py",
   "mimetype": "text/x-python",
   "name": "python",
   "nbconvert_exporter": "python",
   "pygments_lexer": "ipython3",
   "version": "3.8.2"
  }
 },
 "nbformat": 4,
 "nbformat_minor": 4
}
